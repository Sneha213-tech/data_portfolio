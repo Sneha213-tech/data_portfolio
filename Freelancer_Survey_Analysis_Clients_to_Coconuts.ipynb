{
  "metadata": {
    "kernelspec": {
      "language": "python",
      "display_name": "Python 3",
      "name": "python3"
    },
    "language_info": {
      "pygments_lexer": "ipython3",
      "nbconvert_exporter": "python",
      "version": "3.6.4",
      "file_extension": ".py",
      "codemirror_mode": {
        "name": "ipython",
        "version": 3
      },
      "name": "python",
      "mimetype": "text/x-python"
    },
    "colab": {
      "name": "Freelancer Survey Analysis - Clients to Coconuts",
      "provenance": []
    }
  },
  "nbformat_minor": 0,
  "nbformat": 4,
  "cells": [
    {
      "source": [
        "\n",
        "# IMPORTANT: RUN THIS CELL IN ORDER TO IMPORT YOUR KAGGLE DATA SOURCES\n",
        "# TO THE CORRECT LOCATION (/kaggle/input) IN YOUR NOTEBOOK,\n",
        "# THEN FEEL FREE TO DELETE THIS CELL.\n",
        "# NOTE: THIS NOTEBOOK ENVIRONMENT DIFFERS FROM KAGGLE'S PYTHON\n",
        "# ENVIRONMENT SO THERE MAY BE MISSING LIBRARIES USED BY YOUR\n",
        "# NOTEBOOK.\n",
        "\n",
        "import os\n",
        "import sys\n",
        "from tempfile import NamedTemporaryFile\n",
        "from urllib.request import urlopen\n",
        "from urllib.parse import unquote, urlparse\n",
        "from urllib.error import HTTPError\n",
        "from zipfile import ZipFile\n",
        "import tarfile\n",
        "import shutil\n",
        "\n",
        "CHUNK_SIZE = 40960\n",
        "DATA_SOURCE_MAPPING = 'linkedin-freelancer-survey-results:https%3A%2F%2Fstorage.googleapis.com%2Fkaggle-data-sets%2F1514752%2F2501503%2Fbundle%2Farchive.zip%3FX-Goog-Algorithm%3DGOOG4-RSA-SHA256%26X-Goog-Credential%3Dgcp-kaggle-com%2540kaggle-161607.iam.gserviceaccount.com%252F20240422%252Fauto%252Fstorage%252Fgoog4_request%26X-Goog-Date%3D20240422T191557Z%26X-Goog-Expires%3D259200%26X-Goog-SignedHeaders%3Dhost%26X-Goog-Signature%3D303716d0a6ec9efa288a39466a56831c1f280f4c259bfd5bdd1de013f03a1c29582e91f3783913388d847501320a993dc9c44399783b386be7ee2bdeeeb66238b9dd2a03f50e526d7d3f7ff549ac2884d229c515dfa16e13ecf482c60d1e22040b837bca8f6e9cf54e05c429c7e160e1b4ec9c2b822fa023a63a8408e997b9305ea66e08a54a3a9d7c7ac557b0920c5b1b706f96cd9880b56c8f9944b6f935ef4a2fa5baf7bcc66b268e610dcd9f6b29fb9ff5686755a4f70954c73bbb5c841c6f71a5abb8bdf99047ff7bc2c4fe5180463612fb11c3cbac663fbfdd0fa2ec2df09b174e4c37e4ac32371f30e661b5c15e0e2703681bb9f5f419a8e6e05a1a80'\n",
        "\n",
        "KAGGLE_INPUT_PATH='/kaggle/input'\n",
        "KAGGLE_WORKING_PATH='/kaggle/working'\n",
        "KAGGLE_SYMLINK='kaggle'\n",
        "\n",
        "!umount /kaggle/input/ 2> /dev/null\n",
        "shutil.rmtree('/kaggle/input', ignore_errors=True)\n",
        "os.makedirs(KAGGLE_INPUT_PATH, 0o777, exist_ok=True)\n",
        "os.makedirs(KAGGLE_WORKING_PATH, 0o777, exist_ok=True)\n",
        "\n",
        "try:\n",
        "  os.symlink(KAGGLE_INPUT_PATH, os.path.join(\"..\", 'input'), target_is_directory=True)\n",
        "except FileExistsError:\n",
        "  pass\n",
        "try:\n",
        "  os.symlink(KAGGLE_WORKING_PATH, os.path.join(\"..\", 'working'), target_is_directory=True)\n",
        "except FileExistsError:\n",
        "  pass\n",
        "\n",
        "for data_source_mapping in DATA_SOURCE_MAPPING.split(','):\n",
        "    directory, download_url_encoded = data_source_mapping.split(':')\n",
        "    download_url = unquote(download_url_encoded)\n",
        "    filename = urlparse(download_url).path\n",
        "    destination_path = os.path.join(KAGGLE_INPUT_PATH, directory)\n",
        "    try:\n",
        "        with urlopen(download_url) as fileres, NamedTemporaryFile() as tfile:\n",
        "            total_length = fileres.headers['content-length']\n",
        "            print(f'Downloading {directory}, {total_length} bytes compressed')\n",
        "            dl = 0\n",
        "            data = fileres.read(CHUNK_SIZE)\n",
        "            while len(data) > 0:\n",
        "                dl += len(data)\n",
        "                tfile.write(data)\n",
        "                done = int(50 * dl / int(total_length))\n",
        "                sys.stdout.write(f\"\\r[{'=' * done}{' ' * (50-done)}] {dl} bytes downloaded\")\n",
        "                sys.stdout.flush()\n",
        "                data = fileres.read(CHUNK_SIZE)\n",
        "            if filename.endswith('.zip'):\n",
        "              with ZipFile(tfile) as zfile:\n",
        "                zfile.extractall(destination_path)\n",
        "            else:\n",
        "              with tarfile.open(tfile.name) as tarfile:\n",
        "                tarfile.extractall(destination_path)\n",
        "            print(f'\\nDownloaded and uncompressed: {directory}')\n",
        "    except HTTPError as e:\n",
        "        print(f'Failed to load (likely expired) {download_url} to path {destination_path}')\n",
        "        continue\n",
        "    except OSError as e:\n",
        "        print(f'Failed to load {download_url} to path {destination_path}')\n",
        "        continue\n",
        "\n",
        "print('Data source import complete.')\n"
      ],
      "metadata": {
        "id": "p_CVPuX-PKDS"
      },
      "cell_type": "code",
      "outputs": [],
      "execution_count": null
    },
    {
      "cell_type": "markdown",
      "source": [
        "# **Freelancer Survey Analysis - From Clients to Coconuts**"
      ],
      "metadata": {
        "id": "W2dR0lSAPKDV"
      }
    },
    {
      "cell_type": "markdown",
      "source": [
        "Welcome! This notebook contains the results and insights from 50 polls taken on LinkedIn, which were aimed at freelancers.\n",
        "\n",
        "The results were gathered by [Dr. Mikko J. Rissanen](https://www.linkedin.com/in/mikkor/), a freelancer working primarily in the AR/VR space. The polls were taken to help give him an insight into the average freelancer, enabling him to produce higher quality content on his website [CoachLancer](https://www.coachlancer.com/). CoachLancer aims to assist anyone on the freelancer journey, with advice ranging from getting more clients to general pro tips. You may also know Mikko as 'that coconut guy from LinkedIn'.\n",
        "\n",
        "As a freelance data scientist, I thought it would be cool to build upon Mikko's work, compiling the survey results here on Kaggle where others can dissect the data as they see fit. I also thought that it may be helpful to visualize the data so that anyone interested can quickly analyze the data and find their own insights. This data gives a window into the life of a freelancer. As a result, it is primarily aimed at anyone currently working as a freelancer or interested in becoming one. If you're not in that boat but would still like to dig into the findings, please feel free to continue! If you'd like to discuss my conclusions further or offer any suggestions/insights of your own, please feel free to drop me a message [here](http://https://www.linkedin.com/in/alfie-grace-b285ab161/) on LinkedIn. Otherwise, you can drop a comment right here on Kaggle.\n",
        "\n",
        "*Mikko has provided some of his own insights to contribute to the article. You can recognize Mikko's contributions by looking for any blocks of italicized text, similar to this one!*\n",
        "\n",
        "**The questions have been split into 6 core themes:**\n",
        "\n",
        "* The Clients - Choosing a Boss\n",
        "* The Journey - From Beginner to Veteran\n",
        "* The Marketing - Generating Leads for a Freelance Business\n",
        "* The Execution - From Leads to Happy Clients\n",
        "* The Finances - Picking the Right Price\n",
        "* The Fun Stuff - Coconuts, Lifestyle and Everything Else"
      ],
      "metadata": {
        "id": "LYESV_tGPKDX"
      }
    },
    {
      "cell_type": "code",
      "source": [
        "import math\n",
        "import pandas as pd\n",
        "import seaborn as sns\n",
        "from matplotlib import pyplot as plt\n",
        "\n",
        "# load the data\n",
        "df = pd.read_csv('../input/linkedin-freelancer-survey-results/results.csv')\n",
        "\n",
        "# create custom functions for generating the visualizations\n",
        "def dual_pies(colors, t1, r1, o1, t2, r2, o2):\n",
        "    \"\"\" function for generating side-by-side pie charts\n",
        "    colors - color scheme for the charts\n",
        "    t1 - title for the first image\n",
        "    r1 - results for the first image\n",
        "    o1 - options for the first image\n",
        "    t2 - title for the second pie\n",
        "    r2 - results for the second pie\n",
        "    o2 = options for the second pie \"\"\"\n",
        "\n",
        "    # create subplot grid\n",
        "    fig, (ax1, ax2) = plt.subplots(1,2,figsize=(15,10))\n",
        "\n",
        "    # create chart 1 and show\n",
        "    ax1.pie(r1, labels = o1, autopct='%1.0f%%', textprops={'fontsize': 16}, colors=colors)\n",
        "    ax1.set_title(t1, fontsize=18)\n",
        "\n",
        "    # create chart 2 and show\n",
        "    ax2.pie(r2, labels = o2, autopct='%1.0f%%', textprops={'fontsize': 16}, colors=colors)\n",
        "    dv = ax2.set_title(t2, fontsize=18)\n",
        "\n",
        "def dual_bars(colors, t1, r1, o1, t2, r2, o2):\n",
        "    \"\"\" function for generating side-by-side bar charts\n",
        "    variables are the same as in dual_pies \"\"\"\n",
        "\n",
        "    # create subplot grid\n",
        "    fig, (bp1, bp2) = plt.subplots(1, 2, figsize=(15,10))\n",
        "\n",
        "    # create chart 1 and show\n",
        "    bp = sns.barplot(ax=bp1, x=o1, y=r1, palette=colors)\n",
        "    bp.set_ylabel('Respondents', fontsize=14)\n",
        "    bp.tick_params(labelsize=14)\n",
        "    bp1.set_title(t1, fontsize=18)\n",
        "\n",
        "    # create chart 2 and show\n",
        "    bp = sns.barplot(ax=bp2, x=o2, y=r2, palette=colors)\n",
        "    bp.set_ylabel('Respondents', fontsize=14)\n",
        "    bp.tick_params(labelsize=14)\n",
        "    dv = bp2.set_title(t2, fontsize=18)\n",
        "\n",
        "def horizontal_bar(colors, t1, r1, o1):\n",
        "    \"\"\" function for generating a single sideways bar chart\n",
        "    variables are the same as in previous functions \"\"\"\n",
        "\n",
        "    # create chart and show\n",
        "    plt.figure(figsize=(15, 5))\n",
        "    plt.title(t1, fontsize=18)\n",
        "    bp = sns.barplot(x=r1, y=o1, palette=colors)\n",
        "    bp.set_xlabel('Respondents', fontsize=14)\n",
        "    bp.tick_params(labelsize=14)\n",
        "    plt.show()\n",
        "\n",
        "# disable warnings\n",
        "import warnings\n",
        "warnings.filterwarnings(\"ignore\")"
      ],
      "metadata": {
        "_kg_hide-input": true,
        "jupyter": {
          "source_hidden": true
        },
        "execution": {
          "iopub.status.busy": "2021-08-13T09:51:28.40767Z",
          "iopub.execute_input": "2021-08-13T09:51:28.408122Z",
          "iopub.status.idle": "2021-08-13T09:51:29.526868Z",
          "shell.execute_reply.started": "2021-08-13T09:51:28.408025Z",
          "shell.execute_reply": "2021-08-13T09:51:29.525945Z"
        },
        "trusted": true,
        "id": "3SwdektMPKDX"
      },
      "execution_count": null,
      "outputs": []
    },
    {
      "cell_type": "markdown",
      "source": [
        "## **The Clients - Choosing a Boss**\n",
        "\n",
        "Arguably, the most essential part of freelancing is the clients. It doesn't matter how good your skills are without someone who will pay you to use them. This section will cover clients, aiming to assess freelancer views on client numbers and client interaction."
      ],
      "metadata": {
        "id": "84vtAgynPKDX"
      }
    },
    {
      "cell_type": "code",
      "source": [
        "# Questions 46 and 37/19\n",
        "\n",
        "# pick colors for the graphs\n",
        "colors = ['#7fffd4', '#ffccbb', '#afe79d', '#fff9c4']\n",
        "\n",
        "# define data Q46\n",
        "t1 = 'How many clients do you serve in parallel as a freelancer?\\n(146 respondents)'\n",
        "data = df[df.question == 46].iloc[0]\n",
        "o1 = ['Just one,\\nfull-time', '2-3', '4-5', '6 or more']\n",
        "r1 = [data.A, data.B, data.C, data.D]\n",
        "\n",
        "# define data Q37/19 (these two are very similar, so the results are combined)\n",
        "t2 = 'What type of clients do you work with?\\n(115 respondents)'\n",
        "o2 = ['Individuals', 'Startups', 'Medium-size companies', 'Large corporations']\n",
        "r2 = [0.34, 0.30, 0.22, 0.14]\n",
        "\n",
        "# create the charts\n",
        "dual_pies(colors, t1, r1, o1, t2, r2, o2)"
      ],
      "metadata": {
        "_kg_hide-input": true,
        "jupyter": {
          "source_hidden": true
        },
        "execution": {
          "iopub.status.busy": "2021-08-13T09:51:29.528126Z",
          "iopub.execute_input": "2021-08-13T09:51:29.528553Z",
          "iopub.status.idle": "2021-08-13T09:51:29.881386Z",
          "shell.execute_reply.started": "2021-08-13T09:51:29.528524Z",
          "shell.execute_reply": "2021-08-13T09:51:29.880574Z"
        },
        "trusted": true,
        "id": "JSO_K8hVPKDY"
      },
      "execution_count": null,
      "outputs": []
    },
    {
      "cell_type": "markdown",
      "source": [
        "It makes sense that an overwhelming majority of the respondents have selected 2 to 3 clients in parallel as their preferred working style. Freelancing can be a risky business, but you reduce the damage that losing a single client can have on your finances by diversifying your income sources. Unfortunately, contracts reach a natural end all the time. With multiple clients part-time, you only need to replace the income from one client when this happens, resulting in far fewer sleepless nights!\n",
        "\n",
        "On the other hand, it's surprising that 14% of the respondents work with 6 clients or more. The most amount of clients I've ever worked with concurrently is four and I found that a lot of juggling was involved to ensure I was keeping them all happy. So 6 seems like it would definitely be a struggle, although I suppose it also depends on what kind of services you're offering.\n",
        "\n",
        "Don't quote me on this, but the 34/30/22/14 split on client types could be related to the experience distribution of the freelancers surveyed. Generally speaking, only the most experienced freelancers have access to those big-ticket corporate clients that pay by the bucketload, whereas everyone has access to individual clients."
      ],
      "metadata": {
        "id": "qxrHu7vhPKDY"
      }
    },
    {
      "cell_type": "code",
      "source": [
        "# Questions 13 and 48\n",
        "\n",
        "# define data Q13\n",
        "t1 = 'How often do you have a disagreement with\\na client about the price of your work?\\n(32 respondents)'\n",
        "data = df[df.question == 13].iloc[0]\n",
        "data = data[1:5].apply(lambda col: round(col*data.respondents, 0))\n",
        "o1 = ['Never', 'Almost every\\ntime', \"No, it's\\ncalled\\n'negotiation'\", 'Sometimes']\n",
        "r1 = [data.A, data.C, data.D, data.B]\n",
        "\n",
        "# define data Q48\n",
        "t2 = 'Have you ever\\nfired a client?\\n(148 respondents)'\n",
        "data = df[df.question == 48].iloc[0]\n",
        "data = data[1:5].apply(lambda col: round(col*data.respondents, 0))\n",
        "o2 = ['Yes, many\\ntimes', 'No, never', 'Yes, just once', \"What?\\nFreelancers\\ndon't do that\"]\n",
        "r2 = [data.B, data.C, data.A, data.D]\n",
        "\n",
        "# create the charts\n",
        "dual_bars('pastel', t1, r1, o1, t2, r2, o2)"
      ],
      "metadata": {
        "_kg_hide-input": true,
        "jupyter": {
          "source_hidden": true
        },
        "execution": {
          "iopub.status.busy": "2021-08-13T09:51:29.882868Z",
          "iopub.execute_input": "2021-08-13T09:51:29.883332Z",
          "iopub.status.idle": "2021-08-13T09:51:30.294591Z",
          "shell.execute_reply.started": "2021-08-13T09:51:29.883289Z",
          "shell.execute_reply": "2021-08-13T09:51:30.293433Z"
        },
        "trusted": true,
        "id": "ku6ePTpdPKDY"
      },
      "execution_count": null,
      "outputs": []
    },
    {
      "cell_type": "markdown",
      "source": [
        "I'm shocked to see that approximately 35% of respondents have never fired a client. Personally, I fall into the 'Yes, just once' column on this one and I believe it isn't a decision to be taken lightly, but sometimes a client just has to go! Perhaps some freelancers are just luckier than others with their clients?\n",
        "\n",
        "*Firing freelancers is a sadly common phenomenon, but it works the other way round also. 20% of the freelancers report having FIRED A CLIENT once. 37% say they’ve done it several times! Way to go, guys!*"
      ],
      "metadata": {
        "id": "lNTzPhT-PKDZ"
      }
    },
    {
      "cell_type": "code",
      "source": [
        "# Question 44\n",
        "\n",
        "# define data\n",
        "t1 = 'How happy are you with the number of new clients you get every month?\\n(135 respondents)'\n",
        "data = df[df.question == 44].iloc[0]\n",
        "data = data[1:5].apply(lambda col: round(col*data.respondents, 0))\n",
        "o1 = ['I have a perfect balance', \"I only work with long-term clients\", \"Too happy, I'm overbooked\",\n",
        "           \"Not very, I need more clients!\"]\n",
        "r1 = [data.B, data.D, data.C, data.A]\n",
        "\n",
        "# create chart and show\n",
        "horizontal_bar('pastel', t1, r1, o1)"
      ],
      "metadata": {
        "_kg_hide-input": true,
        "jupyter": {
          "source_hidden": true
        },
        "execution": {
          "iopub.status.busy": "2021-08-13T09:51:30.296142Z",
          "iopub.execute_input": "2021-08-13T09:51:30.296526Z",
          "iopub.status.idle": "2021-08-13T09:51:30.483438Z",
          "shell.execute_reply.started": "2021-08-13T09:51:30.296497Z",
          "shell.execute_reply": "2021-08-13T09:51:30.4822Z"
        },
        "trusted": true,
        "id": "Vh96esZCPKDa"
      },
      "execution_count": null,
      "outputs": []
    },
    {
      "cell_type": "markdown",
      "source": [
        "The majority here is in the 'Not very, I need more clients!' boat. One of the main joys of freelancing is working with new people on fun new projects, so it makes sense that even well-established freelancers are already looking for the next client. Personally, it's been three months since I've taken on a new client, so maybe it's time I put myself back out there."
      ],
      "metadata": {
        "id": "LS5GWpJCPKDa"
      }
    },
    {
      "cell_type": "code",
      "source": [
        "# Questions 8 and 22\n",
        "\n",
        "# pick colors for the graphs\n",
        "colors = ['#7fffd4', '#ffccbb', '#afe79d', '#fff9c4']\n",
        "\n",
        "# define data Q8\n",
        "t1 = 'Do your clients have the same skillset\\nas yourself?\\n(23 respondents)'\n",
        "data = df[df.question == 8].iloc[0]\n",
        "o1 = [' Yes, all\\nof them', 'Yes, some of them', 'No, none of them']\n",
        "r1 = [data.A, data.B, data.C]\n",
        "\n",
        "# define data Q22\n",
        "t2 = 'Do you know how your typical clients make money,\\nwhat type of business do they do?\\n(46 respondents)'\n",
        "data = df[df.question == 22].iloc[0]\n",
        "o2 = ['B2B', 'B2C', 'Business-to-Coconuts (B2CC)', \"Don't know, don't care!\"]\n",
        "r2 = [data.A, data.B, data.C, data.D]\n",
        "\n",
        "# create the charts\n",
        "dual_pies(colors, t1, r1, o1, t2, r2, o2)"
      ],
      "metadata": {
        "_kg_hide-input": true,
        "jupyter": {
          "source_hidden": true
        },
        "execution": {
          "iopub.status.busy": "2021-08-13T09:51:30.485396Z",
          "iopub.execute_input": "2021-08-13T09:51:30.485838Z",
          "iopub.status.idle": "2021-08-13T09:51:30.777225Z",
          "shell.execute_reply.started": "2021-08-13T09:51:30.485795Z",
          "shell.execute_reply": "2021-08-13T09:51:30.776092Z"
        },
        "trusted": true,
        "id": "vMAqif6APKDa"
      },
      "execution_count": null,
      "outputs": []
    },
    {
      "cell_type": "markdown",
      "source": [
        "I'm glad to see that it's just a minority falling into the 'Don't know, don't care!' category. The reality is, when talking about your contract history with potential clients, it can be beneficial to understand whether your ex-clients make money business-to-business (B2B) or business-to-customer (B2C). Unfortunately, I haven't worked with anyone on the business-to-coconuts model just yet, so I can't quite comment on that one."
      ],
      "metadata": {
        "id": "ZIXTAoU3PKDa"
      }
    },
    {
      "cell_type": "code",
      "source": [
        "# Question 15\n",
        "\n",
        "# define data\n",
        "t1 = 'What do you mainly look for when you are about to work with a new client?\\n(36 respondents)'\n",
        "data = df[df.question == 15].iloc[0]\n",
        "data = data[1:5].apply(lambda col: round(col*data.respondents, 0))\n",
        "o1 = [\"Fun collaboration\", \"Challenging work\", 'Money', \"Long-term relationship\"]\n",
        "r1 = [data.B, data.D, data.A, data.C]\n",
        "\n",
        "# create chart and show\n",
        "horizontal_bar('pastel', t1, r1, o1)"
      ],
      "metadata": {
        "_kg_hide-input": true,
        "jupyter": {
          "source_hidden": true
        },
        "execution": {
          "iopub.status.busy": "2021-08-13T09:51:30.7789Z",
          "iopub.execute_input": "2021-08-13T09:51:30.779358Z",
          "iopub.status.idle": "2021-08-13T09:51:30.964533Z",
          "shell.execute_reply.started": "2021-08-13T09:51:30.779315Z",
          "shell.execute_reply": "2021-08-13T09:51:30.963369Z"
        },
        "trusted": true,
        "id": "kx95hc5YPKDa"
      },
      "execution_count": null,
      "outputs": []
    },
    {
      "cell_type": "markdown",
      "source": [
        "*Hmm… would it not be too much like having a boss after all? I personally get exhausted in long-term projects if they start to repeat anything I could call a routine. I learn nothing new from routines.*"
      ],
      "metadata": {
        "id": "tGyz25n2PKDa"
      }
    },
    {
      "cell_type": "code",
      "source": [
        "# pick colors for the graphs\n",
        "colors = ['#7fffd4', '#ffccbb', '#afe79d', '#fff9c4']\n",
        "\n",
        "# define data Q5\n",
        "t1 = 'What method do you use for screening\\nyour clients on a freelance site\\n(e.g. Upwork, PeoplePerHour, etc.)\\n(17 respondents)'\n",
        "data = df[df.question == 5].iloc[0]\n",
        "o1 = ['Text messaging', 'One audio call', 'One video call', \"   Multiple\\n   in-depth\\ndiscussions\"]\n",
        "r1 = [data.A, data.B, data.C, data.D]\n",
        "\n",
        "# define data Q18\n",
        "t2 = 'Which type of business do\\nyou think is better\\nfor freelancing\\n(41 respondents)'\n",
        "data = df[df.question == 18].iloc[0]\n",
        "o2 = ['Be a small fish\\nin a big pond ', '  Be a big fish\\nin a small pond']\n",
        "r2 = [data.A, data.B]\n",
        "\n",
        "# create the charts\n",
        "dual_pies(colors, t1, r1, o1, t2, r2, o2)"
      ],
      "metadata": {
        "_kg_hide-input": true,
        "jupyter": {
          "source_hidden": true
        },
        "execution": {
          "iopub.status.busy": "2021-08-13T09:51:30.96719Z",
          "iopub.execute_input": "2021-08-13T09:51:30.967625Z",
          "iopub.status.idle": "2021-08-13T09:51:31.363349Z",
          "shell.execute_reply.started": "2021-08-13T09:51:30.967582Z",
          "shell.execute_reply": "2021-08-13T09:51:31.362259Z"
        },
        "trusted": true,
        "id": "62XT5rkdPKDa"
      },
      "execution_count": null,
      "outputs": []
    },
    {
      "cell_type": "markdown",
      "source": [
        "*I would encourage people to be the BIG FISH in whatever pond they choose. Be the Go-To who nearly owns a niche or two, particularly, if you do things online. The world is big enough for a one-person business to work on a very specific niche. Also, that is by far the best way to start on freelance sites.*"
      ],
      "metadata": {
        "id": "R18_fBgLPKDb"
      }
    },
    {
      "cell_type": "markdown",
      "source": [
        "## **The Journey - From Beginner to Veteran**\n",
        "\n",
        "Every business needs a plan to be successful; this includes freelance businesses too! One particular area which should be near the forefront of every freelancer's business plan is growth. If you're not landing those big-ticket clients just yet, that's ok, but you should have a roadmap for how to get there. Alternatively, maybe you're already one of those big fish that Mikko mentioned in the previous section, but if you'd like to stay on top, you still need a growth plan to keep on top of the latest technologies. So whether you're a beginner wondering how to get started in the world of freelancing or if you're someone more experienced that wants to get to the next level, then you may find this section pretty helpful."
      ],
      "metadata": {
        "id": "1xpstAHaPKDb"
      }
    },
    {
      "cell_type": "code",
      "source": [
        "# Question 28\n",
        "\n",
        "# define data\n",
        "t1 = 'What is the best way to start freelancing?\\n(59 respondents)'\n",
        "data = df[df.question == 28].iloc[0]\n",
        "data = data[1:5].apply(lambda col: round(col*data.respondents, 0))\n",
        "o1 = [\"Freelance for previous employers\", \"Join professional groups\", \"Use personal connections\", 'Join a freelance site']\n",
        "r1 = [data.A, data.D, data.B, data.C]\n",
        "\n",
        "# create chart and show\n",
        "horizontal_bar('vlag', t1, r1, o1)"
      ],
      "metadata": {
        "_kg_hide-input": true,
        "jupyter": {
          "source_hidden": true
        },
        "execution": {
          "iopub.status.busy": "2021-08-13T09:51:31.366886Z",
          "iopub.execute_input": "2021-08-13T09:51:31.367289Z",
          "iopub.status.idle": "2021-08-13T09:51:31.550191Z",
          "shell.execute_reply.started": "2021-08-13T09:51:31.367255Z",
          "shell.execute_reply": "2021-08-13T09:51:31.549351Z"
        },
        "trusted": true,
        "id": "bxhv5UWwPKDb"
      },
      "execution_count": null,
      "outputs": []
    },
    {
      "cell_type": "markdown",
      "source": [
        "*46% believe that the best way to start #freelancing is to join a freelance site. Think again! For instance, half of the people joining Upwork never see a penny!*"
      ],
      "metadata": {
        "id": "vm2-kwo0PKDb"
      }
    },
    {
      "cell_type": "code",
      "source": [
        "# Questions 23 and 49\n",
        "\n",
        "# define data Q23\n",
        "t1 = 'Which area of your freelance business are\\nyou planning to improve in 2021?\\n(49 respondents)'\n",
        "data = df[df.question == 23].iloc[0]\n",
        "data = data[1:5].apply(lambda col: round(col*data.respondents, 0))\n",
        "o1 = ['More clients', 'Better clients', \"Better work\\nprocess\", 'Less work,\\nmore fun']\n",
        "r1 = [data.A, data.B, data.C, data.D]\n",
        "\n",
        "# define data Q49\n",
        "t2 = 'How hard do you think it is to build a good\\nfreelance business on Upwork?\\n(302 respondents)'\n",
        "data = df[df.question == 49].iloc[0]\n",
        "data = data[1:5].apply(lambda col: round(col*data.respondents, 0))\n",
        "o2 = ['Impossible,\\nalmost nobody\\ncan do it', 'Not at\\nall, anyone\\ncan do it', 'Not that\\nhard, most\\ncan do it', \"Very hard,\\nmost can't\\ndo it\"]\n",
        "r2 = [data.A, data.D, data.C, data.B]\n",
        "\n",
        "# create the charts\n",
        "dual_bars('vlag', t1, r1, o1, t2, r2, o2)"
      ],
      "metadata": {
        "_kg_hide-input": true,
        "jupyter": {
          "source_hidden": true
        },
        "execution": {
          "iopub.status.busy": "2021-08-13T09:51:31.552188Z",
          "iopub.execute_input": "2021-08-13T09:51:31.552781Z",
          "iopub.status.idle": "2021-08-13T09:51:31.987875Z",
          "shell.execute_reply.started": "2021-08-13T09:51:31.552734Z",
          "shell.execute_reply": "2021-08-13T09:51:31.987132Z"
        },
        "trusted": true,
        "id": "bcbLztPWPKDb"
      },
      "execution_count": null,
      "outputs": []
    },
    {
      "cell_type": "markdown",
      "source": [
        "It seems that the main priority for most respondents is to get more clients; for the most part, more clients = more money, so it makes sense this is something that a lot of freelancers are focused on.\n",
        "\n",
        "Building a freelance business on Upwork can be challenging, but it's definitely doable. If it was easy, then everyone would do it!\n",
        "\n",
        "*51% of the freelancers think Upwork is either very or insanely hard for building a freelance business. No surprise there. That place is tough.*"
      ],
      "metadata": {
        "id": "L0hOcfoqPKDb"
      }
    },
    {
      "cell_type": "code",
      "source": [
        "# Questions 5 and 7\n",
        "\n",
        "# pick colors for the graphs\n",
        "colors = ['#6e90bf', '#aab8d0', '#e4e5eb', '#f2dfdd']\n",
        "\n",
        "# define data Q5\n",
        "t1 = 'How long would you say you\\nstruggled before your freelance business\\nbrought you satisfactory income?\\n(19 respondents)'\n",
        "data = df[df.question == 6].iloc[0]\n",
        "o1 = ['Weeks', 'Months', 'Half a year', \"One year or more\"]\n",
        "r1 = [data.A, data.B, data.C, data.D]\n",
        "\n",
        "# define data Q7\n",
        "t2 = 'Have you ever pivoted\\nyour freelance business from\\none service to another?\\n(20 respondents)'\n",
        "data = df[df.question == 7].iloc[0]\n",
        "o2 = ['No, not yet', 'No, I never will', 'Yes, once', 'Yes, many times']\n",
        "r2 = [data.A, data.B, data.C, data.D]\n",
        "\n",
        "# create the charts\n",
        "dual_pies(colors, t1, r1, o1, t2, r2, o2)"
      ],
      "metadata": {
        "_kg_hide-input": true,
        "jupyter": {
          "source_hidden": true
        },
        "execution": {
          "iopub.status.busy": "2021-08-13T09:51:31.989195Z",
          "iopub.execute_input": "2021-08-13T09:51:31.989804Z",
          "iopub.status.idle": "2021-08-13T09:51:32.289629Z",
          "shell.execute_reply.started": "2021-08-13T09:51:31.98976Z",
          "shell.execute_reply": "2021-08-13T09:51:32.288507Z"
        },
        "trusted": true,
        "id": "8B1VeVv1PKDb"
      },
      "execution_count": null,
      "outputs": []
    },
    {
      "cell_type": "markdown",
      "source": [
        "Freelancing is the same as most things in life because what you get out of it is equivalent to what you put in. As a result, the amount of time it takes to start bringing in an adequate income is directly related to how much hard work you're willing to put into building your reputation and your portfolio.\n",
        "\n",
        "*I think change is good just for keeping things interesting, if for no other reason.*"
      ],
      "metadata": {
        "id": "AW37GVJwPKDb"
      }
    },
    {
      "cell_type": "code",
      "source": [
        "# Questions 26 and 35\n",
        "\n",
        "# define data Q26\n",
        "t1 = 'Do you have a long-term strategy that\\nyou follow when considering which\\nfreelance jobs to start working on?\\n(53 respondents)'\n",
        "data = df[df.question == 26].iloc[0]\n",
        "data = data[1:5].apply(lambda col: round(col*data.respondents, 0))\n",
        "o1 = ['No,\\nstrategy is\\nunnecessary', 'Yes, for\\ngrowing\\na team', \"Yes, for\\ngrowing\\nclientele\", 'Yes, for\\nexpanding\\nmy\\nskill set']\n",
        "r1 = [data.A, data.D, data.C, data.B]\n",
        "\n",
        "# define data Q35\n",
        "t2 = 'Which of these critical areas\\nof freelancing would you like\\nto learn more about?\\n(68 respondents)'\n",
        "data = df[df.question == 35].iloc[0]\n",
        "data = data[1:5].apply(lambda col: round(col*data.respondents, 0))\n",
        "o2 = [\"Branding,\\nmarketing\\nand sales\", 'Client\\nhandling and\\ncommunication', 'Strategic\\nniche\\nbuilding', 'Coconut\\njuggling']\n",
        "r2 = [data.A, data.B, data.C, data.D]\n",
        "\n",
        "# create the charts\n",
        "dual_bars('vlag', t1, r1, o1, t2, r2, o2)"
      ],
      "metadata": {
        "_kg_hide-input": true,
        "jupyter": {
          "source_hidden": true
        },
        "execution": {
          "iopub.status.busy": "2021-08-13T09:51:32.291003Z",
          "iopub.execute_input": "2021-08-13T09:51:32.291339Z",
          "iopub.status.idle": "2021-08-13T09:51:32.731845Z",
          "shell.execute_reply.started": "2021-08-13T09:51:32.291308Z",
          "shell.execute_reply": "2021-08-13T09:51:32.731086Z"
        },
        "trusted": true,
        "id": "u0dFFgHTPKDc"
      },
      "execution_count": null,
      "outputs": []
    },
    {
      "cell_type": "markdown",
      "source": [
        "*Not having a strategy is close to business suicide. How else would you plan to stay competitive as the world changes constantly?*\n",
        "\n",
        "Most respondents are looking to learn more about branding, marketing and sales. This desire is understandable, you need to build your skills to earn higher rates, but you also need the marketing know-how to advertise those skills to clients."
      ],
      "metadata": {
        "id": "xdNfqYNePKDc"
      }
    },
    {
      "cell_type": "code",
      "source": [
        "# Question 50\n",
        "\n",
        "# define data\n",
        "t1 = 'How long have you been freelancing?\\n(478 respondents)'\n",
        "data = df[df.question == 50].iloc[0]\n",
        "data = data[1:5].apply(lambda col: round(col*data.respondents, 0))\n",
        "o1 = [\"More than 10 (I'm a veteran)!\", \"6-10 years\", \"1-5 years\", \"Less than 1 year\"]\n",
        "r1 = [data.D, data.C, data.B, data.A]\n",
        "\n",
        "# create chart and show\n",
        "horizontal_bar('vlag', t1, r1, o1)"
      ],
      "metadata": {
        "_kg_hide-input": true,
        "jupyter": {
          "source_hidden": true
        },
        "execution": {
          "iopub.status.busy": "2021-08-13T09:51:32.733104Z",
          "iopub.execute_input": "2021-08-13T09:51:32.733391Z",
          "iopub.status.idle": "2021-08-13T09:51:32.945221Z",
          "shell.execute_reply.started": "2021-08-13T09:51:32.733365Z",
          "shell.execute_reply": "2021-08-13T09:51:32.944135Z"
        },
        "trusted": true,
        "id": "30xZ-ZkBPKDc"
      },
      "execution_count": null,
      "outputs": []
    },
    {
      "cell_type": "markdown",
      "source": [
        "It's no surprise at all to see such a considerable portion of new freelancers. It's no secret that the high unemployment rates caused by COVID-19 have resulted in a massive influx of new freelancers eager to try out a new way of working."
      ],
      "metadata": {
        "id": "HIfg9IpEPKDc"
      }
    },
    {
      "cell_type": "code",
      "source": [
        "# Questions 42 and 47\n",
        "\n",
        "# pick colors for the graphs\n",
        "colors = ['#6e90bf', '#aab8d0', '#e4e5eb', '#f2dfdd']\n",
        "\n",
        "# define data Q42\n",
        "t1 = 'How many more years are\\nyou planning to freelance?\\n(101 respondents)'\n",
        "data = df[df.question == 42].iloc[0]\n",
        "o1 = [\" None, I'm\\nsoon done!\", \"1-5 years\", \"6-10 years\", \"Forever! (freelancer for life)\"]\n",
        "r1 = [data.A, data.B, data.C, data.D]\n",
        "\n",
        "# define data Q47\n",
        "t2 = 'Which world is better for\\nlong-term freelance success?\\n(147 respondents)'\n",
        "data = df[df.question == 47].iloc[0]\n",
        "o2 = [\"Local offline world\", \"Global online world\", \"A mixture of both\"]\n",
        "r2 = [data.A, data.B, data.C]\n",
        "\n",
        "# create the charts\n",
        "dual_pies(colors, t1, r1, o1, t2, r2, o2)"
      ],
      "metadata": {
        "_kg_hide-input": true,
        "jupyter": {
          "source_hidden": true
        },
        "execution": {
          "iopub.status.busy": "2021-08-13T09:51:32.946901Z",
          "iopub.execute_input": "2021-08-13T09:51:32.947339Z",
          "iopub.status.idle": "2021-08-13T09:51:33.235562Z",
          "shell.execute_reply.started": "2021-08-13T09:51:32.947296Z",
          "shell.execute_reply": "2021-08-13T09:51:33.234357Z"
        },
        "trusted": true,
        "id": "gg5d_fsjPKDc"
      },
      "execution_count": null,
      "outputs": []
    },
    {
      "cell_type": "markdown",
      "source": [
        "*57% plan to freelance for life! Supposedly, they are those who have got things going very sweet, are perhaps based out of an island of #coconuts, sipping drinks on a beach while working, etc. That is a VERY NICE PERCENTAGE!*\n",
        "\n",
        "Building upon my previous point about the effect that COVID-19 has had on freelancers, it's also no shock to see that most respondents believe it's better to build a freelance business online. The pandemic has shown employers that you don't need someone to be physically sat in the same building to get results. For freelancers, this is excellent news as it opens up a global marketplace of opportunities."
      ],
      "metadata": {
        "id": "VgXZomN6PKDc"
      }
    },
    {
      "cell_type": "markdown",
      "source": [
        "## **The Marketing - Generating Leads for a Freelance Business**\n",
        "\n",
        "You could be the most talented data analyst, graphic designer or copywriter out there, but it doesn't matter if you can't land a gig. Marketing is one of the most critical areas of freelancing, so read on to see what some of our respondents had to say about how they go about hunting for leads."
      ],
      "metadata": {
        "id": "wNEGeNjUPKDc"
      }
    },
    {
      "cell_type": "code",
      "source": [
        "# define data\n",
        "t1 = 'What is your favourite freelance site for your freelance business?\\n(95 respondents)'\n",
        "data = df[df.question == 41].iloc[0]\n",
        "data = data[1:5].apply(lambda col: round(col*data.respondents, 0))\n",
        "o1 = [\"freelancer.com\", \"fiverr.com\", \"None of the above\", \"upwork.com\"]\n",
        "r1 = [data.B, data.A, data.D, data.C]\n",
        "\n",
        "# create chart and show\n",
        "horizontal_bar('coolwarm', t1, r1, o1)"
      ],
      "metadata": {
        "_kg_hide-input": true,
        "jupyter": {
          "source_hidden": true
        },
        "execution": {
          "iopub.status.busy": "2021-08-13T09:51:33.23688Z",
          "iopub.execute_input": "2021-08-13T09:51:33.237208Z",
          "iopub.status.idle": "2021-08-13T09:51:33.418862Z",
          "shell.execute_reply.started": "2021-08-13T09:51:33.237165Z",
          "shell.execute_reply": "2021-08-13T09:51:33.418021Z"
        },
        "trusted": true,
        "id": "vs4vMrTKPKDc"
      },
      "execution_count": null,
      "outputs": []
    },
    {
      "cell_type": "markdown",
      "source": [
        "The impression I've gotten from various sources is that different freelance sites can be suitable for different types of services. That being said, I can see why Upwork is doing so well. They've been killing it recently!"
      ],
      "metadata": {
        "id": "XA74RvTLPKDc"
      }
    },
    {
      "cell_type": "code",
      "source": [
        "# Questions 24 and 34\n",
        "\n",
        "# pick colors for the graphs\n",
        "colors = ['#6788ee', '#c9d7f0', '#edd1c2', '#f7a889']\n",
        "\n",
        "# define data Q24\n",
        "t1 = 'How much do you trust\\nyour favourite freelance site?\\n(50 respondents)'\n",
        "data = df[df.question == 24].iloc[0]\n",
        "o1 = [\"Not at all, it\\n could turn\\n really bad\",\"A lot, I'm safe\", \"\\nNot sure, it could\\n  go either way\", \"Don't care,\\n I've got a\\n   plan B\"]\n",
        "r1 = [data.A, data.B, data.C, data.D]\n",
        "\n",
        "# define data Q34\n",
        "t2 = 'Would you join good old Elance, if it was\\nresurrected and not replacing the current Upwork?\\n(66 respondents)'\n",
        "data = df[df.question == 34].iloc[0]\n",
        "o2 = [\"Yes\", \"No\", \"What was     \\nElance anyway?\", \"        Don't care,\\nmore coconuts please\"]\n",
        "r2 = [data.A, data.B, data.C, data.D]\n",
        "\n",
        "# create the charts\n",
        "dual_pies(colors, t1, r1, o1, t2, r2, o2)"
      ],
      "metadata": {
        "_kg_hide-input": true,
        "jupyter": {
          "source_hidden": true
        },
        "execution": {
          "iopub.status.busy": "2021-08-13T09:51:33.419914Z",
          "iopub.execute_input": "2021-08-13T09:51:33.420314Z",
          "iopub.status.idle": "2021-08-13T09:51:33.719579Z",
          "shell.execute_reply.started": "2021-08-13T09:51:33.420286Z",
          "shell.execute_reply": "2021-08-13T09:51:33.718647Z"
        },
        "trusted": true,
        "id": "aux_zGAoPKDc"
      },
      "execution_count": null,
      "outputs": []
    },
    {
      "cell_type": "markdown",
      "source": [
        "I'm stunned to see that a whopping 50% of respondents have complete trust in their favorite freelance site; it takes a lot to have full confidence that your primary source of income won't hang you out to dry under certain circumstances. The general consensus that I've seen is that it's best to diversify your income sources. That way, if one website cuts you off for whatever reason, you've got a backup plan in place."
      ],
      "metadata": {
        "id": "rUBalBLhPKDc"
      }
    },
    {
      "cell_type": "code",
      "source": [
        "# Questions 43 and 45\n",
        "\n",
        "# define data Q45\n",
        "t1 = 'How happy are you with your online presence?\\n(LinkedIn, social media, freelance sites, etc.)\\n(142 respondents)'\n",
        "data = df[df.question == 45].iloc[0]\n",
        "data = data[1:5].apply(lambda col: round(col*data.respondents, 0))\n",
        "o1 = [\"I'm overloaded\\nwith\\nopportunities!\", \"Not at\\nall, I'm\\ninvisible\", \"I'm just\\ngetting started\", \"I'm doing\\njust fine\"]\n",
        "r1 = [data.D, data.A, data.B, data.C]\n",
        "\n",
        "# define data Q43\n",
        "t2 = 'What is the best hashtag\\nfor freelancers on LinkedIn?\\n(125 respondents)'\n",
        "data = df[df.question == 43].iloc[0]\n",
        "data = data[1:5].apply(lambda col: round(col*data.respondents, 0))\n",
        "o2 = [\"#upwork\", \"#freelance\", \"#freelancing\", \"#coconuts\"]\n",
        "r2 = [data.C, data.A, data.B, data.D]\n",
        "\n",
        "# create the charts\n",
        "dual_bars('coolwarm', t1, r1, o1, t2, r2, o2)"
      ],
      "metadata": {
        "_kg_hide-input": true,
        "jupyter": {
          "source_hidden": true
        },
        "execution": {
          "iopub.status.busy": "2021-08-13T09:51:33.720863Z",
          "iopub.execute_input": "2021-08-13T09:51:33.721205Z",
          "iopub.status.idle": "2021-08-13T09:51:34.138583Z",
          "shell.execute_reply.started": "2021-08-13T09:51:33.721157Z",
          "shell.execute_reply": "2021-08-13T09:51:34.137433Z"
        },
        "trusted": true,
        "id": "Qk7UfnOLPKDd"
      },
      "execution_count": null,
      "outputs": []
    },
    {
      "cell_type": "markdown",
      "source": [
        "Sorry Mikko, it looks like #coconuts hasn't taken off just yet!"
      ],
      "metadata": {
        "id": "__XkBYwfPKDd"
      }
    },
    {
      "cell_type": "code",
      "source": [
        "# Questions 3 and 17\n",
        "\n",
        "# pick colors for the graphs\n",
        "colors = ['#6788ee', '#c9d7f0', '#edd1c2', '#f7a889']\n",
        "\n",
        "# define data Q3\n",
        "t1 = 'Which types of professional\\norganizations do you belong to for finding\\nclients for your freelance business?\\n(13 respondents)'\n",
        "data = df[df.question == 3].iloc[0]\n",
        "o1 = [\"Freelancers' union\\n       or similar\", \"Paid          \\nmembership    \\norganization    \", \"Free membership\\norganization    \", \"None of the above\"]\n",
        "r1 = [data.A, data.B, data.C, data.D]\n",
        "\n",
        "# define data Q17\n",
        "t2 = 'Do you sell your\\nfreelance services through an\\nkind of sales partner?\\n(37 respondents)'\n",
        "data = df[df.question == 17].iloc[0]\n",
        "o2 = [\"No, never\", \"Yes, sometimes I use partners\", \"Yes, I use\\n partners\\n  always\"]\n",
        "r2 = [data.A, data.B, data.C]\n",
        "\n",
        "# create the charts\n",
        "dual_pies(colors, t1, r1, o1, t2, r2, o2)"
      ],
      "metadata": {
        "_kg_hide-input": true,
        "jupyter": {
          "source_hidden": true
        },
        "execution": {
          "iopub.status.busy": "2021-08-13T09:51:34.140046Z",
          "iopub.execute_input": "2021-08-13T09:51:34.14037Z",
          "iopub.status.idle": "2021-08-13T09:51:34.448478Z",
          "shell.execute_reply.started": "2021-08-13T09:51:34.140343Z",
          "shell.execute_reply": "2021-08-13T09:51:34.446958Z"
        },
        "trusted": true,
        "id": "ctiCeHdQPKDd"
      },
      "execution_count": null,
      "outputs": []
    },
    {
      "cell_type": "markdown",
      "source": [
        "Personally, I've never had to join any organizations or work with sales partners to help get more business. That being said, I know that many people struggle with finding clients at first, so I can see why they'd perhaps try a different approach at times.\n",
        "\n",
        "*I find it very interesting that some manage their sales without interfacing with the client directly!*"
      ],
      "metadata": {
        "id": "qbTCLmikPKDd"
      }
    },
    {
      "cell_type": "markdown",
      "source": [
        "## **The Execution - From Leads to Happy Clients**\n",
        "\n",
        "This section is dedicated to the day-to-day of freelancer life, looking at some of their key challenges and how freelancers like to work."
      ],
      "metadata": {
        "id": "9LSkAxH0PKDg"
      }
    },
    {
      "cell_type": "code",
      "source": [
        "# Questions 33 and 16\n",
        "\n",
        "# define data Q33\n",
        "t1 = 'What is the hardest part\\nof freelancing?\\n(66 respondents)'\n",
        "data = df[df.question == 33].iloc[0]\n",
        "data = data[1:5].apply(lambda col: round(col*data.respondents, 0))\n",
        "o1 = [\"Getting\\nclients\\nto pay well\", \"Converting leads\\nto clients\", \"Finding\\nleads\", \"Finishing the\\nwork on time\"]\n",
        "r1 = [data.C, data.B, data.A, data.D]\n",
        "\n",
        "# define data Q16\n",
        "t2 = \"What type of problems did you experience in\\nthe hardest freelance project you've ever done?\\n(33 respondents)\"\n",
        "data = df[df.question == 16].iloc[0]\n",
        "data = data[1:5].apply(lambda col: round(col*data.respondents, 0))\n",
        "o2 = [\"Time\\nmanagement\", \"Communicating\\nwith\\nthe client\", \"Work\\nprocess and\\nexecution\", \"Changing\\nrequirements\"]\n",
        "r2 = [data.A, data.C, data.D, data.B]\n",
        "\n",
        "# create the charts\n",
        "dual_bars('pastel', t1, r1, o1, t2, r2, o2)\n"
      ],
      "metadata": {
        "_kg_hide-input": true,
        "jupyter": {
          "source_hidden": true
        },
        "execution": {
          "iopub.status.busy": "2021-08-13T09:51:34.450439Z",
          "iopub.execute_input": "2021-08-13T09:51:34.45084Z",
          "iopub.status.idle": "2021-08-13T09:51:34.873269Z",
          "shell.execute_reply.started": "2021-08-13T09:51:34.450799Z",
          "shell.execute_reply": "2021-08-13T09:51:34.872015Z"
        },
        "trusted": true,
        "id": "XyKrHvQPPKDh"
      },
      "execution_count": null,
      "outputs": []
    },
    {
      "cell_type": "markdown",
      "source": [
        "Interestingly, only a slim majority of respondents thank that actually doing the work is the easy part; maybe looking for more challenging gigs will result in clients that pay better!\n",
        "\n",
        "Changing requirements is definitely a struggle and it's easy to see why a lot of the freelancers surveyed would agree. There's not much that's more demoralizing than when you're ready to wrap up on a project only for the client to change their expectations at the last minute."
      ],
      "metadata": {
        "id": "y4VyEbuIPKDh"
      }
    },
    {
      "cell_type": "code",
      "source": [
        "# Questions 12 and 27\n",
        "\n",
        "# pick colors for the graphs\n",
        "colors = ['#7fffd4', '#ffccbb', '#afe79d', '#fff9c4']\n",
        "\n",
        "# define data Q12\n",
        "t1 = 'Do you have any collaborators as\\npart of your freelance business?\\n(31 respondents)'\n",
        "data = df[df.question == 12].iloc[0]\n",
        "o1 = [\"   I have\\nmarketing\\n     help\", \"I have sales\\n  partners\", \"No, I don't need anyone\", \"I have       \\nsubcontractors\"]\n",
        "r1 = [data.C, data.D, data.A, data.B]\n",
        "\n",
        "# define data Q27\n",
        "t2 = 'As a freelancer, how often do\\nyou hire other freelancers?\\n(55 respondents)'\n",
        "data = df[df.question == 27].iloc[0]\n",
        "o2 = [\"Never\", \"\\n\\nSometimes\", \"Regularly\", \"All the time\"]\n",
        "r2 = [data.A, data.B, data.C, data.D]\n",
        "\n",
        "# create the charts\n",
        "dual_pies(colors, t1, r1, o1, t2, r2, o2)"
      ],
      "metadata": {
        "_kg_hide-input": true,
        "jupyter": {
          "source_hidden": true
        },
        "execution": {
          "iopub.status.busy": "2021-08-13T09:51:34.874866Z",
          "iopub.execute_input": "2021-08-13T09:51:34.875271Z",
          "iopub.status.idle": "2021-08-13T09:51:35.314661Z",
          "shell.execute_reply.started": "2021-08-13T09:51:34.875238Z",
          "shell.execute_reply": "2021-08-13T09:51:35.31366Z"
        },
        "trusted": true,
        "id": "AssXqd7SPKDh"
      },
      "execution_count": null,
      "outputs": []
    },
    {
      "cell_type": "markdown",
      "source": [
        "Likely, these results are highly correlated to the types of jobs that freelancers do. Some gigs just don't require more than one pair of hands to take care of, so, understandably, many freelancers don't require collaborators or subcontractors."
      ],
      "metadata": {
        "id": "ciy-GBrEPKDh"
      }
    },
    {
      "cell_type": "code",
      "source": [
        "# define data\n",
        "t1 = \"What kind of impact do you have on your client's business?\\n(44 respondents)\"\n",
        "data = df[df.question == 21].iloc[0]\n",
        "data = data[1:5].apply(lambda col: round(col*data.respondents, 0))\n",
        "o1 = [\"Don't know, no access to data\", \"Make a critical part of the business\",\"Save more money\", \"Make more money\"]\n",
        "r1 = [data.D, data.C, data.B, data.A]\n",
        "\n",
        "# create chart and show\n",
        "horizontal_bar('pastel', t1, r1, o1)"
      ],
      "metadata": {
        "_kg_hide-input": true,
        "jupyter": {
          "source_hidden": true
        },
        "execution": {
          "iopub.status.busy": "2021-08-13T09:51:35.317153Z",
          "iopub.execute_input": "2021-08-13T09:51:35.317796Z",
          "iopub.status.idle": "2021-08-13T09:51:35.499476Z",
          "shell.execute_reply.started": "2021-08-13T09:51:35.317749Z",
          "shell.execute_reply": "2021-08-13T09:51:35.498644Z"
        },
        "trusted": true,
        "id": "88o0A7TjPKDh"
      },
      "execution_count": null,
      "outputs": []
    },
    {
      "cell_type": "code",
      "source": [
        "# Questions 32 and 40\n",
        "\n",
        "# define data Q32\n",
        "t1 = 'Which type of freelance contracts do you prefer?\\n(65 respondents)'\n",
        "data = df[df.question == 32].iloc[0]\n",
        "data = data[1:5].apply(lambda col: round(col*data.respondents, 0))\n",
        "o1 = [\"Short-term,\\nfull-time\", \"Long-term,\\nfull-time\", \"Short-term,\\npart-time\", \"Long-term,\\npart-time\"]\n",
        "r1 = [data.B, data.D, data.A, data.C]\n",
        "\n",
        "# define data Q40\n",
        "t2 = \"What is your preferred method of freelancing?\\n(86 respondents)\"\n",
        "data = df[df.question == 40].iloc[0]\n",
        "data = data[1:5].apply(lambda col: round(col*data.respondents, 0))\n",
        "o2 = [\"Fully online\\n(e.g. LinkedIn\\nand Upwork)\", \"Mostly\\nonline\", \"Mostly\\noffline\", \"Fully offline\\n(location-based)\"]\n",
        "r2 = [data.D, data.C, data.B, data.A]\n",
        "\n",
        "# create the charts\n",
        "dual_bars('pastel', t1, r1, o1, t2, r2, o2)"
      ],
      "metadata": {
        "_kg_hide-input": true,
        "jupyter": {
          "source_hidden": true
        },
        "execution": {
          "iopub.status.busy": "2021-08-13T09:51:35.500716Z",
          "iopub.execute_input": "2021-08-13T09:51:35.501294Z",
          "iopub.status.idle": "2021-08-13T09:51:35.888684Z",
          "shell.execute_reply.started": "2021-08-13T09:51:35.50125Z",
          "shell.execute_reply": "2021-08-13T09:51:35.887952Z"
        },
        "trusted": true,
        "id": "qW6i_MixPKDh"
      },
      "execution_count": null,
      "outputs": []
    },
    {
      "cell_type": "markdown",
      "source": [
        "From a financial standpoint, it's understandable that 'Long-term, part-time' is the winner here. With 2 or 3 long-term/part-time contracts under your belt, you've got a steady source of income for the foreseeable future."
      ],
      "metadata": {
        "id": "W6-2snRzPKDh"
      }
    },
    {
      "cell_type": "markdown",
      "source": [
        "## **The Finances - Picking the Right Price**\n",
        "\n",
        "Clients, marketing and strategy all lead towards one thing - making money! As a result, it's essential to ensure that your freelance business is geared towards making all the hard work worth your while. This section explores how respondents go about pulling in the correct prices for their services."
      ],
      "metadata": {
        "id": "uD4zgKZaPKDh"
      }
    },
    {
      "cell_type": "code",
      "source": [
        "# define data\n",
        "t1 = \"How do you set a price for your freelance projects?\\n(63 respondents)\"\n",
        "data = df[df.question == 31].iloc[0]\n",
        "data = data[1:5].apply(lambda col: round(col*data.respondents, 0))\n",
        "o1 = [\"By looking at competitors\", \"By effort/hours estimates\", \"By value to the client\", \"By predefined package price\"]\n",
        "r1 = [data.A, data.D, data.C, data.B]\n",
        "\n",
        "# create chart and show\n",
        "horizontal_bar('Spectral', t1, r1, o1)"
      ],
      "metadata": {
        "_kg_hide-input": true,
        "jupyter": {
          "source_hidden": true
        },
        "execution": {
          "iopub.status.busy": "2021-08-13T09:51:35.889895Z",
          "iopub.execute_input": "2021-08-13T09:51:35.890474Z",
          "iopub.status.idle": "2021-08-13T09:51:36.089669Z",
          "shell.execute_reply.started": "2021-08-13T09:51:35.890431Z",
          "shell.execute_reply": "2021-08-13T09:51:36.088892Z"
        },
        "trusted": true,
        "id": "iuPZGRNoPKDh"
      },
      "execution_count": null,
      "outputs": []
    },
    {
      "cell_type": "markdown",
      "source": [
        "It's hard to put an exact price on your services. Theoretically, clients should be paying for the value that a freelancer adds to their business. However, in reality, freelancing can be very competitive, so you also need to be aware of the going rate for your services, especially when you haven't got the pedigree to demand those coveted top-tier rates."
      ],
      "metadata": {
        "id": "oSINylJRPKDi"
      }
    },
    {
      "cell_type": "code",
      "source": [
        "# Questions 30 and 36\n",
        "\n",
        "# define data Q30\n",
        "t1 = 'Which type of freelance\\ncontracts do you prefer?\\n(62 respondents)'\n",
        "data = df[df.question == 30].iloc[0]\n",
        "data = data[1:5].apply(lambda col: round(col*data.respondents, 0))\n",
        "o1 = [\"A nice mix of both\", \"Hourly\", \"Fixed-price\"]\n",
        "r1 = [data.C, data.A, data.B]\n",
        "\n",
        "# define data Q36\n",
        "t2 = \"Do you charge an advance fee\\nfor your freelance projects?\\n(69 respondents)\"\n",
        "data = df[df.question == 36].iloc[0]\n",
        "data = data[1:5].apply(lambda col: round(col*data.respondents, 0))\n",
        "o2 = [\"No\", \"Yes, 0-25%\", \"Yes, 25-50%\", \"Yes, 51%\\nor more\"]\n",
        "r2 = [data.D, data.C, data.B, data.A]\n",
        "\n",
        "# create the charts\n",
        "dual_bars('Spectral', t1, r1, o1, t2, r2, o2)"
      ],
      "metadata": {
        "_kg_hide-input": true,
        "jupyter": {
          "source_hidden": true
        },
        "execution": {
          "iopub.status.busy": "2021-08-13T09:51:36.092303Z",
          "iopub.execute_input": "2021-08-13T09:51:36.092708Z",
          "iopub.status.idle": "2021-08-13T09:51:36.464906Z",
          "shell.execute_reply.started": "2021-08-13T09:51:36.092678Z",
          "shell.execute_reply": "2021-08-13T09:51:36.464213Z"
        },
        "trusted": true,
        "id": "sPE4VhN5PKDi"
      },
      "execution_count": null,
      "outputs": []
    },
    {
      "cell_type": "markdown",
      "source": [
        "I can see why most respondents would favor a mixture of both contract types. Fixed-price contracts are outstanding if you can do them quickly, resulting in a nice lump sum and putting a dent in your targets. On the other hand, if you don't plan your time well, fixed-price gigs can very quickly result in you not getting much bang for your buck. The great thing about hourly contracts is that regardless of how long a project takes you, you're going to be reimbursed for your time. However, some freelancers have a problem with hourly gigs because as you become more skilled, you can also get jobs done quicker. This results in less billing time."
      ],
      "metadata": {
        "id": "GbZI4sVlPKDi"
      }
    },
    {
      "cell_type": "code",
      "source": [
        "# Questions 6 and 14\n",
        "\n",
        "# pick colors for the graphs\n",
        "colors = ['#fca55d', '#fee999', '#edf8a3', '#47a0b3']\n",
        "\n",
        "# define data Q6\n",
        "t1 = 'How long would you say you struggled\\nbefore your freelance business\\nbrought you satisfactory income?\\n(19 respondents)'\n",
        "data = df[df.question == 6].iloc[0]\n",
        "o1 = [\"Weeks\", \"Months\", \"Half a year\", \"One year or more\"]\n",
        "r1 = [data.A, data.B, data.C, data.D]\n",
        "\n",
        "# define data Q14\n",
        "t2 = 'How much financial runway (savings\\nfor covering your living expenses)\\ndid you have when you started freelancing?\\n(34 respondents)'\n",
        "data = df[df.question == 14].iloc[0]\n",
        "o2 = [\"0 months, I felt lucky\", \"<4 months\", \"4-6 months    \\nas recommended\", \">6 months\"]\n",
        "r2 = [data.A, data.B, data.C, data.D]\n",
        "\n",
        "# create the charts\n",
        "dual_pies(colors, t1, r1, o1, t2, r2, o2)"
      ],
      "metadata": {
        "_kg_hide-input": true,
        "jupyter": {
          "source_hidden": true
        },
        "execution": {
          "iopub.status.busy": "2021-08-13T09:51:36.466029Z",
          "iopub.execute_input": "2021-08-13T09:51:36.46635Z",
          "iopub.status.idle": "2021-08-13T09:51:36.769988Z",
          "shell.execute_reply.started": "2021-08-13T09:51:36.466321Z",
          "shell.execute_reply": "2021-08-13T09:51:36.768667Z"
        },
        "trusted": true,
        "id": "xrVFul9NPKDi"
      },
      "execution_count": null,
      "outputs": []
    },
    {
      "cell_type": "markdown",
      "source": [
        "*An alerting number of 35% of freelancers didn’t have ANY SAVINGS to cover their living expenses when they started #freelancing! But fortunately, 47% say they had savings enough for the recommended period of at least 4-6 months or even more. Dudes, EVERY BUSINESS needs an initial capital. In the case of freelance businesses, it can be very small, though.*"
      ],
      "metadata": {
        "id": "iy9EqoMyPKDi"
      }
    },
    {
      "cell_type": "markdown",
      "source": [
        "## **The Fun Stuff - Coconuts, Lifestyle and Everything Else**"
      ],
      "metadata": {
        "id": "efep4QXDPKDi"
      }
    },
    {
      "cell_type": "code",
      "source": [
        "# Questions 25 and 29\n",
        "\n",
        "# pick colors for the graphs\n",
        "colors = ['#ae8772', '#a9d89a', '#f9fb1d', '#d1f9f0']\n",
        "\n",
        "# define data Q25\n",
        "t1 = 'How do you see your coconut\\nonce 50% of it has been consumed?\\n(53 respondents)'\n",
        "data = df[df.question == 25].iloc[0]\n",
        "o1 = [\"It's half\\n empty\", \"It's half full\", \"Finish it, then get another\", \"\\nDon't care,\\n   it's just\\n    a fruit\"]\n",
        "r1 = [data.A, data.B, data.C, data.D]\n",
        "\n",
        "# define data Q29\n",
        "t2 = 'Freelancer, what is\\nyour favourite color?\\n(60 respondents)'\n",
        "data = df[df.question == 29].iloc[0]\n",
        "o2 = [\"Coconut brown\", \"Coconut green\", \"Coconut yellow\", \"Blue!\"]\n",
        "r2 = [data.A, data.B, data.C, data.D]\n",
        "\n",
        "# create the charts\n",
        "dual_pies(colors, t1, r1, o1, t2, r2, o2)"
      ],
      "metadata": {
        "_kg_hide-input": true,
        "jupyter": {
          "source_hidden": true
        },
        "execution": {
          "iopub.status.busy": "2021-08-13T09:51:36.771639Z",
          "iopub.execute_input": "2021-08-13T09:51:36.772061Z",
          "iopub.status.idle": "2021-08-13T09:51:37.066803Z",
          "shell.execute_reply.started": "2021-08-13T09:51:36.772015Z",
          "shell.execute_reply": "2021-08-13T09:51:37.065739Z"
        },
        "trusted": true,
        "id": "StKfcPC1PKDi"
      },
      "execution_count": null,
      "outputs": []
    },
    {
      "cell_type": "markdown",
      "source": [
        "*When asked about their freelancing philosophy, 28% of freelancers say their COCONUT IS HALF FULL. 0% think it is half empty (as nobody should think). Fortunately, though, 62% prefer to finish the coconut, then get another, which is the right way to freelance. Sadly, 10% don’t give a ****, because it’s just a fruit (but at least now they know coconut is technically not a nut at all, it is indeed a fruit).*\n",
        "\n",
        "*42% of freelancers say their FAVORITE COLOR IS COCONUT GREEN. Coconut brown came second (20%), coconut yellow third (7%). Blue was the wrong answer, even if 31% thought the opposite. Obviously, it’s just wrong, no matter what Monty Python says. Needless to mention any other colors as they are simply not well-suited for freelancers*"
      ],
      "metadata": {
        "id": "w46pACD-PKDi"
      }
    },
    {
      "cell_type": "code",
      "source": [
        "# Question 39\n",
        "\n",
        "# define data\n",
        "t1 = 'How do you expect COVID-19 to affect your freelance business in 2021?\\n(77 respondents)'\n",
        "data = df[df.question == 39].iloc[0]\n",
        "data = data[1:5].apply(lambda col: round(col*data.respondents, 0))\n",
        "o1 = [\"Less competition\", \"Less opportunities\", \"More competition\", \"More opportunities\"]\n",
        "r1 = [data.C, data.A, data.D, data.B]\n",
        "\n",
        "# create chart and show\n",
        "horizontal_bar('Spectral', t1, r1, o1)"
      ],
      "metadata": {
        "_kg_hide-input": true,
        "jupyter": {
          "source_hidden": true
        },
        "execution": {
          "iopub.status.busy": "2021-08-13T09:51:37.068037Z",
          "iopub.execute_input": "2021-08-13T09:51:37.068377Z",
          "iopub.status.idle": "2021-08-13T09:51:37.264063Z",
          "shell.execute_reply.started": "2021-08-13T09:51:37.068347Z",
          "shell.execute_reply": "2021-08-13T09:51:37.262974Z"
        },
        "trusted": true,
        "id": "_JdbvsrqPKDi"
      },
      "execution_count": null,
      "outputs": []
    },
    {
      "cell_type": "markdown",
      "source": [
        "More competition and more opportunities seems to be the general consensus here. As mentioned previously, the high unemployment rates caused by COVID-19 have resulted in many people trying their hand at freelancing. Moreover, due to the tough economy, the increase in competition has also been matched by more companies outsourcing as a cheaper alternative to hiring someone full-time."
      ],
      "metadata": {
        "id": "WE-cX1c1PKDi"
      }
    },
    {
      "cell_type": "code",
      "source": [
        "# Questions 9 and 38\n",
        "\n",
        "# pick colors for the graphs\n",
        "colors = ['#fca55d', '#fee999', '#edf8a3', '#47a0b3']\n",
        "\n",
        "# define data Q9\n",
        "t1 = 'Freelancing is great, but are there any\\nparts that you miss from your old day job?\\n(23 respondents)'\n",
        "data = df[df.question == 9].iloc[0]\n",
        "o1 = [\"Great work community\", \"Stable salary\", \"Risk-free work life\", \"  Clarity in\\n      work\\nassignments\"]\n",
        "r1 = [data.A, data.B, data.C, data.D]\n",
        "\n",
        "# define data Q38\n",
        "t2 = 'Freelancers, what is your\\nmain reason for freelancing?\\n(74 respondents)'\n",
        "data = df[df.question == 38].iloc[0]\n",
        "o2 = [\"Better money\", \"Can work from home\", \"\\nFreeeee\\neeeeee\\ndooom!\", \"Coconuts\"]\n",
        "r2 = [data.A, data.B, data.C, data.D]\n",
        "\n",
        "# create the charts\n",
        "dual_pies(colors, t1, r1, o1, t2, r2, o2)"
      ],
      "metadata": {
        "_kg_hide-input": true,
        "jupyter": {
          "source_hidden": true
        },
        "execution": {
          "iopub.status.busy": "2021-08-13T09:51:37.265425Z",
          "iopub.execute_input": "2021-08-13T09:51:37.265716Z",
          "iopub.status.idle": "2021-08-13T09:51:37.56743Z",
          "shell.execute_reply.started": "2021-08-13T09:51:37.265689Z",
          "shell.execute_reply": "2021-08-13T09:51:37.566664Z"
        },
        "trusted": true,
        "id": "uYWYKBExPKDj"
      },
      "execution_count": null,
      "outputs": []
    },
    {
      "cell_type": "markdown",
      "source": [
        "*Only 9% say it is coconuts. This result is highly disappointing to me, personally. Don’t all freelancers want true success?*"
      ],
      "metadata": {
        "id": "rkvQV4e0PKDj"
      }
    },
    {
      "cell_type": "code",
      "source": [
        "# Questions 11 and 20\n",
        "\n",
        "# define data Q11\n",
        "t1 = 'Freelancer, how much time off do you\\nmanage to take during Christmas break?\\n(29 respondents)'\n",
        "data = df[df.question == 11].iloc[0]\n",
        "data = data[1:5].apply(lambda col: round(col*data.respondents, 0))\n",
        "o1 = [\"What Christmas\\nbreak?\", \"More than\\n4 days\", \"1-2 days\", \"4 days\"]\n",
        "r1 = [data.D, data.A, data.C, data.B]\n",
        "\n",
        "# define data Q20\n",
        "t2 = 'If you could make one wish to change\\nsomething about online freelancing, what would it be?\\n(44 respondents)'\n",
        "data = df[df.question == 20].iloc[0]\n",
        "data = data[1:5].apply(lambda col: round(col*data.respondents, 0))\n",
        "o2 = [\"Better\\nfreelance\\nsites\", \"More\\nteamwork\", \"Higher\\npay in\\ngeneral\", \"More\\nbusiness\\nstability\"]\n",
        "r2 = [data.B, data.C, data.A, data.D]\n",
        "\n",
        "# create the charts\n",
        "dual_bars('Spectral', t1, r1, o1, t2, r2, o2)"
      ],
      "metadata": {
        "_kg_hide-input": true,
        "jupyter": {
          "source_hidden": true
        },
        "execution": {
          "iopub.status.busy": "2021-08-13T09:51:37.568696Z",
          "iopub.execute_input": "2021-08-13T09:51:37.569226Z",
          "iopub.status.idle": "2021-08-13T09:51:37.979488Z",
          "shell.execute_reply.started": "2021-08-13T09:51:37.569193Z",
          "shell.execute_reply": "2021-08-13T09:51:37.978506Z"
        },
        "trusted": true,
        "id": "G1mPvm0aPKDj"
      },
      "execution_count": null,
      "outputs": []
    },
    {
      "cell_type": "markdown",
      "source": [
        "*If 52% of freelancers wish they had a more stable salary and 55% hope to have better business stability, perhaps it is about a quarter of all freelancers who don't seem to be crushing it (yet, at least). It might be a better move to drop the desired for complete \"freeeeeedooooom!\" and go back to the day job. That would fulfill both of the hopes, wouldn't it? Freelancing is not for everyone.*\n",
        "\n",
        "I can agree that freelancing isn't for everyone, it's a lot of work and you need to be good at motivating yourself. As a freelancer, there's no boss guiding you to make sure you're performing at your best; something which some people need. However, one of the best things about freelancing is that even though it's hard work, you're working hard for yourself. When you couple this with doing something you love, it can be easy to feel like you aren't doing any work at all. Despite this, it's essential to look after yourself freelancers, so if you're in the 'What Chrismas break?' category, then take that holiday time you've been thinking about!"
      ],
      "metadata": {
        "id": "J9fNN0WMPKDj"
      }
    }
  ]
}