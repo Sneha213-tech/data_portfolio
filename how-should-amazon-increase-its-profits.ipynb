{
 "cells": [
  {
   "cell_type": "markdown",
   "id": "8c7d3ed2",
   "metadata": {
    "papermill": {
     "duration": 0.007355,
     "end_time": "2024-03-08T08:28:24.929442",
     "exception": false,
     "start_time": "2024-03-08T08:28:24.922087",
     "status": "completed"
    },
    "tags": []
   },
   "source": [
    "# Introduction"
   ]
  },
  {
   "cell_type": "markdown",
   "id": "3f7a3673",
   "metadata": {
    "papermill": {
     "duration": 0.005659,
     "end_time": "2024-03-08T08:28:24.942066",
     "exception": false,
     "start_time": "2024-03-08T08:28:24.936407",
     "status": "completed"
    },
    "tags": []
   },
   "source": [
    "This article uses regression algorithms to estimate parameters based on the Kaggle dataset of Amazon’s Top 50 Best SellingBooks, with a specific URL of https://www.kaggle.com/sootersaalu/amazon-top-50-bestselling-books-2009-2019. A mathematical model has been derived between Amazon’s annual sales volume, price, and book ratings. Based on this mathematical model, a pricing strategy can be identified to increase Amazon’s profits. Amazon can adjust book prices according to this model, which can increase the company’s annual sales volume. This price decision-making mechanism can be automatically completed by computers, thus not increasing Amazon’s labor costs and increasing its existing profits."
   ]
  },
  {
   "cell_type": "markdown",
   "id": "1261336a",
   "metadata": {
    "papermill": {
     "duration": 0.005587,
     "end_time": "2024-03-08T08:28:24.953562",
     "exception": false,
     "start_time": "2024-03-08T08:28:24.947975",
     "status": "completed"
    },
    "tags": []
   },
   "source": [
    "# Data Importation and Cleaning"
   ]
  },
  {
   "cell_type": "markdown",
   "id": "13c92dd5",
   "metadata": {
    "papermill": {
     "duration": 0.005551,
     "end_time": "2024-03-08T08:28:24.965059",
     "exception": false,
     "start_time": "2024-03-08T08:28:24.959508",
     "status": "completed"
    },
    "tags": []
   },
   "source": [
    "The data analysis tool I used is Python3. Firstly, I imported the data into Jupyter Notebook and conducted simple cleaning and preliminary analysis."
   ]
  },
  {
   "cell_type": "code",
   "execution_count": 1,
   "id": "f13a2c5b",
   "metadata": {
    "execution": {
     "iopub.execute_input": "2024-03-08T08:28:24.978778Z",
     "iopub.status.busy": "2024-03-08T08:28:24.978298Z",
     "iopub.status.idle": "2024-03-08T08:28:25.961703Z",
     "shell.execute_reply": "2024-03-08T08:28:25.960559Z"
    },
    "papermill": {
     "duration": 0.99379,
     "end_time": "2024-03-08T08:28:25.964696",
     "exception": false,
     "start_time": "2024-03-08T08:28:24.970906",
     "status": "completed"
    },
    "tags": []
   },
   "outputs": [
    {
     "name": "stdout",
     "output_type": "stream",
     "text": [
      "                                                  Name  \\\n",
      "0                        10-Day Green Smoothie Cleanse   \n",
      "1                                    11/22/63: A Novel   \n",
      "2              12 Rules for Life: An Antidote to Chaos   \n",
      "3                               1984 (Signet Classics)   \n",
      "4    5,000 Awesome Facts (About Everything!) (Natio...   \n",
      "..                                                 ...   \n",
      "545       Wrecking Ball (Diary of a Wimpy Kid Book 14)   \n",
      "546  You Are a Badass: How to Stop Doubting Your Gr...   \n",
      "547  You Are a Badass: How to Stop Doubting Your Gr...   \n",
      "548  You Are a Badass: How to Stop Doubting Your Gr...   \n",
      "549  You Are a Badass: How to Stop Doubting Your Gr...   \n",
      "\n",
      "                       Author  User Rating  Reviews  Price  Year        Genre  \n",
      "0                    JJ Smith          4.7    17350      8  2016  Non Fiction  \n",
      "1                Stephen King          4.6     2052     22  2011      Fiction  \n",
      "2          Jordan B. Peterson          4.7    18979     15  2018  Non Fiction  \n",
      "3               George Orwell          4.7    21424      6  2017      Fiction  \n",
      "4    National Geographic Kids          4.8     7665     12  2019  Non Fiction  \n",
      "..                        ...          ...      ...    ...   ...          ...  \n",
      "545               Jeff Kinney          4.9     9413      8  2019      Fiction  \n",
      "546               Jen Sincero          4.7    14331      8  2016  Non Fiction  \n",
      "547               Jen Sincero          4.7    14331      8  2017  Non Fiction  \n",
      "548               Jen Sincero          4.7    14331      8  2018  Non Fiction  \n",
      "549               Jen Sincero          4.7    14331      8  2019  Non Fiction  \n",
      "\n",
      "[550 rows x 7 columns]\n"
     ]
    }
   ],
   "source": [
    "#Importing the 'pandas' package and loading the data\n",
    "import pandas as pd\n",
    "df = pd.read_csv('../input/amazon-top-50-bestselling-books-2009-2019/bestsellers with categories.csv')\n",
    "print(df)"
   ]
  },
  {
   "cell_type": "code",
   "execution_count": 2,
   "id": "0eb5e803",
   "metadata": {
    "execution": {
     "iopub.execute_input": "2024-03-08T08:28:25.979943Z",
     "iopub.status.busy": "2024-03-08T08:28:25.979268Z",
     "iopub.status.idle": "2024-03-08T08:28:25.992892Z",
     "shell.execute_reply": "2024-03-08T08:28:25.991856Z"
    },
    "papermill": {
     "duration": 0.024334,
     "end_time": "2024-03-08T08:28:25.995401",
     "exception": false,
     "start_time": "2024-03-08T08:28:25.971067",
     "status": "completed"
    },
    "tags": []
   },
   "outputs": [],
   "source": [
    "#clean the data and remove duplicate entries.\n",
    "df.drop_duplicates(inplace=True)\n"
   ]
  },
  {
   "cell_type": "code",
   "execution_count": 3,
   "id": "fa1a3fbb",
   "metadata": {
    "execution": {
     "iopub.execute_input": "2024-03-08T08:28:26.013369Z",
     "iopub.status.busy": "2024-03-08T08:28:26.012810Z",
     "iopub.status.idle": "2024-03-08T08:28:26.034795Z",
     "shell.execute_reply": "2024-03-08T08:28:26.033059Z"
    },
    "papermill": {
     "duration": 0.034658,
     "end_time": "2024-03-08T08:28:26.037394",
     "exception": false,
     "start_time": "2024-03-08T08:28:26.002736",
     "status": "completed"
    },
    "tags": []
   },
   "outputs": [
    {
     "name": "stdout",
     "output_type": "stream",
     "text": [
      "       User Rating       Reviews       Price         Year\n",
      "count   550.000000    550.000000  550.000000   550.000000\n",
      "mean      4.618364  11953.281818   13.100000  2014.000000\n",
      "std       0.226980  11731.132017   10.842262     3.165156\n",
      "min       3.300000     37.000000    0.000000  2009.000000\n",
      "25%       4.500000   4058.000000    7.000000  2011.000000\n",
      "50%       4.700000   8580.000000   11.000000  2014.000000\n",
      "75%       4.800000  17253.250000   16.000000  2017.000000\n",
      "max       4.900000  87841.000000  105.000000  2019.000000\n"
     ]
    }
   ],
   "source": [
    "#Descriptive statistical analysis\n",
    "statistics = df.describe()\n",
    "print(statistics)"
   ]
  },
  {
   "cell_type": "code",
   "execution_count": 4,
   "id": "b18a41d4",
   "metadata": {
    "execution": {
     "iopub.execute_input": "2024-03-08T08:28:26.052012Z",
     "iopub.status.busy": "2024-03-08T08:28:26.051617Z",
     "iopub.status.idle": "2024-03-08T08:28:26.070413Z",
     "shell.execute_reply": "2024-03-08T08:28:26.069210Z"
    },
    "papermill": {
     "duration": 0.029196,
     "end_time": "2024-03-08T08:28:26.073174",
     "exception": false,
     "start_time": "2024-03-08T08:28:26.043978",
     "status": "completed"
    },
    "tags": []
   },
   "outputs": [
    {
     "name": "stdout",
     "output_type": "stream",
     "text": [
      "                                                  Name  \\\n",
      "0                        10-Day Green Smoothie Cleanse   \n",
      "1                                    11/22/63: A Novel   \n",
      "2              12 Rules for Life: An Antidote to Chaos   \n",
      "3                               1984 (Signet Classics)   \n",
      "4    5,000 Awesome Facts (About Everything!) (Natio...   \n",
      "..                                                 ...   \n",
      "545       Wrecking Ball (Diary of a Wimpy Kid Book 14)   \n",
      "546  You Are a Badass: How to Stop Doubting Your Gr...   \n",
      "547  You Are a Badass: How to Stop Doubting Your Gr...   \n",
      "548  You Are a Badass: How to Stop Doubting Your Gr...   \n",
      "549  You Are a Badass: How to Stop Doubting Your Gr...   \n",
      "\n",
      "                       Author  User Rating  Reviews  Price  Year        Genre  \\\n",
      "0                    JJ Smith          4.7    17350      8  2016  Non Fiction   \n",
      "1                Stephen King          4.6     2052     22  2011      Fiction   \n",
      "2          Jordan B. Peterson          4.7    18979     15  2018  Non Fiction   \n",
      "3               George Orwell          4.7    21424      6  2017      Fiction   \n",
      "4    National Geographic Kids          4.8     7665     12  2019  Non Fiction   \n",
      "..                        ...          ...      ...    ...   ...          ...   \n",
      "545               Jeff Kinney          4.9     9413      8  2019      Fiction   \n",
      "546               Jen Sincero          4.7    14331      8  2016  Non Fiction   \n",
      "547               Jen Sincero          4.7    14331      8  2017  Non Fiction   \n",
      "548               Jen Sincero          4.7    14331      8  2018  Non Fiction   \n",
      "549               Jen Sincero          4.7    14331      8  2019  Non Fiction   \n",
      "\n",
      "     Item_count  AverageReviews  \n",
      "0             1        17350.00  \n",
      "1             1         2052.00  \n",
      "2             1        18979.00  \n",
      "3             1        21424.00  \n",
      "4             1         7665.00  \n",
      "..          ...             ...  \n",
      "545           1         9413.00  \n",
      "546           4         3582.75  \n",
      "547           4         3582.75  \n",
      "548           4         3582.75  \n",
      "549           4         3582.75  \n",
      "\n",
      "[550 rows x 9 columns]\n"
     ]
    }
   ],
   "source": [
    "#Since the Reviews data represents the cumulative total over the years, the average annual Reviews data is calculated as a proxy variable for annual sales volume. \n",
    "item_counts = df['Name'].value_counts()\n",
    "df['Item_count'] = df['Name'].map(item_counts)\n",
    "df['AverageReviews'] =df['Reviews'] / df['Item_count']\n",
    "print(df)\n"
   ]
  },
  {
   "cell_type": "code",
   "execution_count": 5,
   "id": "ec101bc4",
   "metadata": {
    "execution": {
     "iopub.execute_input": "2024-03-08T08:28:26.088248Z",
     "iopub.status.busy": "2024-03-08T08:28:26.087816Z",
     "iopub.status.idle": "2024-03-08T08:28:26.096279Z",
     "shell.execute_reply": "2024-03-08T08:28:26.095081Z"
    },
    "papermill": {
     "duration": 0.018886,
     "end_time": "2024-03-08T08:28:26.098820",
     "exception": false,
     "start_time": "2024-03-08T08:28:26.079934",
     "status": "completed"
    },
    "scrolled": true,
    "tags": []
   },
   "outputs": [],
   "source": [
    "#Split the data frame into two separate data frames for fiction and non-fiction books, and conduct separate analyses for each\n",
    "df_Fiction = df[df['Genre'] == 'Fiction']\n",
    "df_non = df[df['Genre'] == 'Non Fiction']"
   ]
  },
  {
   "cell_type": "markdown",
   "id": "99e44815",
   "metadata": {
    "papermill": {
     "duration": 0.006224,
     "end_time": "2024-03-08T08:28:26.112793",
     "exception": false,
     "start_time": "2024-03-08T08:28:26.106569",
     "status": "completed"
    },
    "tags": []
   },
   "source": [
    "# Data Visualization"
   ]
  },
  {
   "cell_type": "markdown",
   "id": "4402551b",
   "metadata": {
    "papermill": {
     "duration": 0.006184,
     "end_time": "2024-03-08T08:28:26.125801",
     "exception": false,
     "start_time": "2024-03-08T08:28:26.119617",
     "status": "completed"
    },
    "tags": []
   },
   "source": [
    "Data visualization can help us discover relationships between these data, thereby facilitating the next step of mathematical modeling."
   ]
  },
  {
   "cell_type": "code",
   "execution_count": 6,
   "id": "fc5290da",
   "metadata": {
    "execution": {
     "iopub.execute_input": "2024-03-08T08:28:26.140896Z",
     "iopub.status.busy": "2024-03-08T08:28:26.140528Z",
     "iopub.status.idle": "2024-03-08T08:28:28.310355Z",
     "shell.execute_reply": "2024-03-08T08:28:28.309330Z"
    },
    "papermill": {
     "duration": 2.180496,
     "end_time": "2024-03-08T08:28:28.312829",
     "exception": false,
     "start_time": "2024-03-08T08:28:26.132333",
     "status": "completed"
    },
    "tags": []
   },
   "outputs": [
    {
     "data": {
      "image/png": "[encoded data removed]",
      "text/plain": [
       "<Figure size 640x480 with 1 Axes>"
      ]
     },
     "metadata": {},
     "output_type": "display_data"
    }
   ],
   "source": [
    "#Data visualization\n",
    "import seaborn as sns\n",
    "import matplotlib.pyplot as plt\n",
    "sns.scatterplot(x=df['Price'], y=df['AverageReviews'], size=df['User Rating'], hue=df['Genre'], data=df, alpha=0.7)\n",
    "plt.xlabel('Price')\n",
    "plt.ylabel('AverageReviews')\n",
    "plt.title('Scatter Plot with Four Variables (Including Categorical)')\n",
    "plt.show()"
   ]
  },
  {
   "cell_type": "markdown",
   "id": "b2fb8302",
   "metadata": {
    "papermill": {
     "duration": 0.007248,
     "end_time": "2024-03-08T08:28:28.327846",
     "exception": false,
     "start_time": "2024-03-08T08:28:28.320598",
     "status": "completed"
    },
    "tags": []
   },
   "source": [
    "Since the dataset does not include sales volume data, we can only use Reviews as a proxy for book sales (these two data shouldbe highly correlated. Of course, if sales volume data can be obtained, the model parameters can be estimated more accurately).Based on our previous calculations, AverageReviews represents the average annual Reviews, and thus can also serve as a proxyvariable for annual book sales. The graph shows some differences between fiction and non-fiction books. Some fiction books with low ratings still have high sales volumes, indicating that fiction readers are more emotional and do not fully rely on ratings when purchasing. This reflects the Chinese saying, “there is no first in literature.” On the other hand, non-fiction readers are more rational, and as ratings increase, so does the AverageReviews, indicating that sales volume should also increase. For non-fictionbooks, increasing prices regardless of rating leads to a decrease in AverageReviews (annual sales volume) "
   ]
  },
  {
   "cell_type": "markdown",
   "id": "0b464f93",
   "metadata": {
    "papermill": {
     "duration": 0.007637,
     "end_time": "2024-03-08T08:28:28.343465",
     "exception": false,
     "start_time": "2024-03-08T08:28:28.335828",
     "status": "completed"
    },
    "tags": []
   },
   "source": [
    "# Regression Modeling"
   ]
  },
  {
   "cell_type": "markdown",
   "id": "f46fc183",
   "metadata": {
    "papermill": {
     "duration": 0.007388,
     "end_time": "2024-03-08T08:28:28.359173",
     "exception": false,
     "start_time": "2024-03-08T08:28:28.351785",
     "status": "completed"
    },
    "tags": []
   },
   "source": [
    "Based on the results of the above data visualization, we construct the following regression model for non-fiction data:\n",
    "AverageReviews=b1*Price+b2*User Rating+error"
   ]
  },
  {
   "cell_type": "code",
   "execution_count": 7,
   "id": "57bd3845",
   "metadata": {
    "execution": {
     "iopub.execute_input": "2024-03-08T08:28:28.376103Z",
     "iopub.status.busy": "2024-03-08T08:28:28.375695Z",
     "iopub.status.idle": "2024-03-08T08:28:30.333320Z",
     "shell.execute_reply": "2024-03-08T08:28:30.331656Z"
    },
    "papermill": {
     "duration": 1.969161,
     "end_time": "2024-03-08T08:28:30.335915",
     "exception": false,
     "start_time": "2024-03-08T08:28:28.366754",
     "status": "completed"
    },
    "tags": []
   },
   "outputs": [
    {
     "name": "stdout",
     "output_type": "stream",
     "text": [
      "                                 OLS Regression Results                                \n",
      "=======================================================================================\n",
      "Dep. Variable:         AverageReviews   R-squared (uncentered):                   0.555\n",
      "Model:                            OLS   Adj. R-squared (uncentered):              0.552\n",
      "Method:                 Least Squares   F-statistic:                              191.9\n",
      "Date:                Fri, 08 Mar 2024   Prob (F-statistic):                    7.53e-55\n",
      "Time:                        08:28:30   Log-Likelihood:                         -3008.5\n",
      "No. Observations:                 310   AIC:                                      6021.\n",
      "Df Residuals:                     308   BIC:                                      6028.\n",
      "Df Model:                           2                                                  \n",
      "Covariance Type:            nonrobust                                                  \n",
      "===============================================================================\n",
      "                  coef    std err          t      P>|t|      [0.025      0.975]\n",
      "-------------------------------------------------------------------------------\n",
      "Price         -61.4789     18.650     -3.296      0.001     -98.177     -24.781\n",
      "User Rating  1146.6048     77.459     14.803      0.000     994.188    1299.021\n",
      "==============================================================================\n",
      "Omnibus:                      203.279   Durbin-Watson:                   1.139\n",
      "Prob(Omnibus):                  0.000   Jarque-Bera (JB):             2011.952\n",
      "Skew:                           2.615   Prob(JB):                         0.00\n",
      "Kurtosis:                      14.332   Cond. No.                         6.78\n",
      "==============================================================================\n",
      "\n",
      "Notes:\n",
      "[1] R² is computed without centering (uncentered) since the model does not contain a constant.\n",
      "[2] Standard Errors assume that the covariance matrix of the errors is correctly specified.\n"
     ]
    }
   ],
   "source": [
    "#Run a multiple regression algorithm and display the regression results and confidence intervals.\n",
    "import numpy as np\n",
    "import statsmodels.api as sm\n",
    "y = df_non['AverageReviews']\n",
    "X = df_non[['Price', 'User Rating']]\n",
    "model = sm.OLS(y, X).fit()\n",
    "print(model.summary())"
   ]
  },
  {
   "cell_type": "markdown",
   "id": "a83bdf6d",
   "metadata": {
    "papermill": {
     "duration": 0.007495,
     "end_time": "2024-03-08T08:28:30.352239",
     "exception": false,
     "start_time": "2024-03-08T08:28:30.344744",
     "status": "completed"
    },
    "tags": []
   },
   "source": [
    "So, the estimated mathematical model we obtained is as follows: AverageReviews = -61.48 * Price + 1146.60 * User Rating + error.This means that for non-fiction books, for every one-point increase in rating, the average number of annual reviews increases by approximately 1147, while for every one-dollar increase in price, the average number of annual reviews decreases by approximately 61. Therefore, an increase in price leads to a decrease in the number of reviews (sales volume). This is consistent with the basic principles of market economics: books with better ratings sell more at the same price, and books with the same rating sell more at lower prices. The R-squared of this model is 0.555, which although not very high, is acceptable in the social science field due to the difficulty of accurate prediction and the use of cross-sectional data. Of course, if additional information about these books can be obtained, the R-squared can be further improved, resulting in more precise predictions. At the 99% confidence level, both coefficients are significant, indicating that there is a 99% probability that the two coefficients are not zero overall, and that price and rating have an impact on the number of reviews (sales volume). At the 95% confidence level, the price parameter ranges from -98.18 to -24.78, and the rating parameter ranges from 994.19 to 1299.02. Therefore, our pricing strategybelow should be robust.\n"
   ]
  },
  {
   "cell_type": "markdown",
   "id": "0b8fa769",
   "metadata": {
    "papermill": {
     "duration": 0.007793,
     "end_time": "2024-03-08T08:28:30.367806",
     "exception": false,
     "start_time": "2024-03-08T08:28:30.360013",
     "status": "completed"
    },
    "tags": []
   },
   "source": [
    "# Pricing Strategy"
   ]
  },
  {
   "cell_type": "markdown",
   "id": "0fe20f72",
   "metadata": {
    "papermill": {
     "duration": 0.008217,
     "end_time": "2024-03-08T08:28:30.383919",
     "exception": false,
     "start_time": "2024-03-08T08:28:30.375702",
     "status": "completed"
    },
    "tags": []
   },
   "source": [
    "Treating AverageReviews as annual sales, the current annual sales revenue for non-fiction books is USD 23,899,308.8 (calculated by multiplying the AverageReviews column by the Price column and summing the results). However, due to a lack of platform regulation, there is currently excessive price competition among books. For example, the book “The Constitution of the UnitedStates” has a User Rating of 4.8 but is priced at zero. Although it has 2774 Reviews, indicating that at least 2774 books have been sold, the sales revenue is zero because the price is zero. Since Amazon’s platform royalty is uniformly set at 70%, which means the platform takes a 30% cut, Amazon does not earn any profit from the sale of this book as 0 * 30% is still 0. Assuming Amazon regulates book prices, for example, setting the price of the lowest-rated book at 3.3 to 1 dollar, the predicted sales volume based on the model would be -61.48 * 1 + 1146.60 * 3.3 = 3722 books. Next, we need to determine a set of prices that would result in annual sales of 3722 books for all ratings. Using the mathematical model above, we can calculate the pricing for each User Rating level. Letting Price be denoted as P, AverageReviews as Q, the model can be rewritten as: P = -20758.88/48.51 + 5614.87/48.51 *User Rating - 1/48.51 * Q Based on this, we can calculate the following pricing table: Rating Price 4.9 31 4.8 29 4.7 27 4.6 25 4.523 4.4 22 4.3 20 4.2 18 4.1 16 4.0 14 Under this pricing strategy, we recalculate the annual sales revenue for non-fiction books by multiplying the new price column by the annual sales column (which are now all close to 3722) and summing the results, obtaining USD 28,985,033.46. This represents an increase of USD 5,085,724.66 or 21.27% compared to the unregulated situation. Amazon,taking a 30% cut, can also increase its revenue and profit by 21.27% since the regulation can be set within the computer system without increasing the company’s labor costs. Of course, with more data, we can predict prices more accurately. Some books have low ratings but high prices and still sell very well. If we can identify the reasons for their popularity, there may be room for price increases for this category of books. This would allow for better macro-regulation and enable Amazon to earn more profits. "
   ]
  }
 ],
 "metadata": {
  "kaggle": {
   "accelerator": "none",
   "dataSources": [
    {
     "datasetId": 918976,
     "sourceId": 1556647,
     "sourceType": "datasetVersion"
    }
   ],
   "dockerImageVersionId": 30664,
   "isGpuEnabled": false,
   "isInternetEnabled": false,
   "language": "python",
   "sourceType": "notebook"
  },
  "kernelspec": {
   "display_name": "Python 3",
   "language": "python",
   "name": "python3"
  },
  "language_info": {
   "codemirror_mode": {
    "name": "ipython",
    "version": 3
   },
   "file_extension": ".py",
   "mimetype": "text/x-python",
   "name": "python",
   "nbconvert_exporter": "python",
   "pygments_lexer": "ipython3",
   "version": "3.10.13"
  },
  "papermill": {
   "default_parameters": {},
   "duration": 9.341054,
   "end_time": "2024-03-08T08:28:31.114135",
   "environment_variables": {},
   "exception": null,
   "input_path": "__notebook__.ipynb",
   "output_path": "__notebook__.ipynb",
   "parameters": {},
   "start_time": "2024-03-08T08:28:21.773081",
   "version": "2.5.0"
  }
 },
 "nbformat": 4,
 "nbformat_minor": 5
}
